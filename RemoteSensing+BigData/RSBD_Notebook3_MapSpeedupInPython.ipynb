{
  "nbformat": 4,
  "nbformat_minor": 0,
  "metadata": {
    "colab": {
      "name": "MapInPython.ipynb",
      "provenance": [],
      "toc_visible": true,
      "authorship_tag": "ABX9TyOZA9NuCfpFVLO93GYuxXW9",
      "include_colab_link": true
    },
    "kernelspec": {
      "name": "python3",
      "display_name": "Python 3"
    },
    "language_info": {
      "name": "python"
    },
    "accelerator": "TPU"
  },
  "cells": [
    {
      "cell_type": "markdown",
      "metadata": {
        "id": "view-in-github",
        "colab_type": "text"
      },
      "source": [
        "<a href=\"https://colab.research.google.com/github/steflhermitte/EO-Notebooks/blob/master/RemoteSensing%2BBigData/RSBD_Notebook3_MapSpeedupInPython.ipynb\" target=\"_parent\"><img src=\"https://colab.research.google.com/assets/colab-badge.svg\" alt=\"Open In Colab\"/></a>"
      ]
    },
    {
      "cell_type": "markdown",
      "metadata": {
        "id": "QlO3AeD2Pj1W"
      },
      "source": [
        "# Simple example\n",
        "Simple example to calculate square of items:"
      ]
    },
    {
      "cell_type": "code",
      "metadata": {
        "id": "40SkhxBeJeC3"
      },
      "source": [
        "items = [1, 2, 3, 4, 5]\n",
        "squared = []\n",
        "for i in items:\n",
        "    squared.append(i**2)"
      ],
      "execution_count": 1,
      "outputs": []
    },
    {
      "cell_type": "markdown",
      "metadata": {
        "id": "yDaAjDGbPyyc"
      },
      "source": [
        "Define as a function:"
      ]
    },
    {
      "cell_type": "code",
      "metadata": {
        "id": "_YpKHaXpJe5t"
      },
      "source": [
        "def square(items):\n",
        "  squared = []\n",
        "  for i in items:\n",
        "    squared.append(i**2)\n",
        "  return squared"
      ],
      "execution_count": 2,
      "outputs": []
    },
    {
      "cell_type": "code",
      "metadata": {
        "colab": {
          "base_uri": "https://localhost:8080/"
        },
        "id": "l8I1ad0IJ5_a",
        "outputId": "b7618db7-850c-4bf5-dc2b-de875a6809e2"
      },
      "source": [
        "%time s = square(items)"
      ],
      "execution_count": 3,
      "outputs": [
        {
          "output_type": "stream",
          "name": "stdout",
          "text": [
            "CPU times: user 8 µs, sys: 2 µs, total: 10 µs\n",
            "Wall time: 16 µs\n"
          ]
        }
      ]
    },
    {
      "cell_type": "markdown",
      "metadata": {
        "id": "wUWCEspKP2_A"
      },
      "source": [
        "Now do the same for a larger list"
      ]
    },
    {
      "cell_type": "code",
      "metadata": {
        "colab": {
          "base_uri": "https://localhost:8080/"
        },
        "id": "n-F9Xj9yKBhM",
        "outputId": "728bba92-f9f3-4591-e9e3-7eea514633d6"
      },
      "source": [
        "large_items = items*10000000\n",
        "len(large_items)"
      ],
      "execution_count": 4,
      "outputs": [
        {
          "output_type": "execute_result",
          "data": {
            "text/plain": [
              "50000000"
            ]
          },
          "metadata": {},
          "execution_count": 4
        }
      ]
    },
    {
      "cell_type": "code",
      "metadata": {
        "colab": {
          "base_uri": "https://localhost:8080/"
        },
        "id": "CePrtaDOKOr6",
        "outputId": "5c8885fe-52b8-4853-9596-f8dd773564bd"
      },
      "source": [
        "%time s = square(large_items)"
      ],
      "execution_count": 5,
      "outputs": [
        {
          "output_type": "stream",
          "name": "stdout",
          "text": [
            "CPU times: user 15.6 s, sys: 653 ms, total: 16.3 s\n",
            "Wall time: 16.4 s\n"
          ]
        }
      ]
    },
    {
      "cell_type": "markdown",
      "metadata": {
        "id": "-BZnpWl_P8AU"
      },
      "source": [
        "## Map the function\n",
        "We can also map the function with `map(function,items)`:"
      ]
    },
    {
      "cell_type": "code",
      "metadata": {
        "colab": {
          "base_uri": "https://localhost:8080/"
        },
        "id": "6attEAkyLR4q",
        "outputId": "dfb1c002-a68c-43da-ab2d-985b476303bd"
      },
      "source": [
        "%time s = map(lambda x: x**2, items)"
      ],
      "execution_count": 6,
      "outputs": [
        {
          "output_type": "stream",
          "name": "stdout",
          "text": [
            "CPU times: user 64.1 ms, sys: 7.01 ms, total: 71.1 ms\n",
            "Wall time: 74.1 ms\n"
          ]
        }
      ]
    },
    {
      "cell_type": "code",
      "metadata": {
        "colab": {
          "base_uri": "https://localhost:8080/"
        },
        "id": "1tsltlL2KQaz",
        "outputId": "f1e3ab0e-37f4-4c5d-d47e-ef9d0d34a5b5"
      },
      "source": [
        "%time s = map(lambda x: x**2, large_items)"
      ],
      "execution_count": 7,
      "outputs": [
        {
          "output_type": "stream",
          "name": "stdout",
          "text": [
            "CPU times: user 8 µs, sys: 1e+03 ns, total: 9 µs\n",
            "Wall time: 12.6 µs\n"
          ]
        }
      ]
    },
    {
      "cell_type": "markdown",
      "metadata": {
        "id": "tTd978bGQIB4"
      },
      "source": [
        "This was fast due to the laze execution, where map only returns a memory address:"
      ]
    },
    {
      "cell_type": "code",
      "metadata": {
        "colab": {
          "base_uri": "https://localhost:8080/"
        },
        "id": "HvGoEshYLYe8",
        "outputId": "d7621d01-4c00-4255-d917-7b4a796ffd69"
      },
      "source": [
        "s"
      ],
      "execution_count": 25,
      "outputs": [
        {
          "output_type": "execute_result",
          "data": {
            "text/plain": [
              "<map at 0x7f981c4725d0>"
            ]
          },
          "metadata": {},
          "execution_count": 25
        }
      ]
    },
    {
      "cell_type": "code",
      "metadata": {
        "colab": {
          "base_uri": "https://localhost:8080/"
        },
        "id": "Ovu1ftO4QXhV",
        "outputId": "5d759d91-ed57-48ce-a8f7-cc59251cbba3"
      },
      "source": [
        "%time s = list(map(lambda x: x**2, items))"
      ],
      "execution_count": 20,
      "outputs": [
        {
          "output_type": "stream",
          "name": "stdout",
          "text": [
            "CPU times: user 73.1 ms, sys: 5.01 ms, total: 78.1 ms\n",
            "Wall time: 78.4 ms\n"
          ]
        }
      ]
    },
    {
      "cell_type": "code",
      "metadata": {
        "colab": {
          "base_uri": "https://localhost:8080/"
        },
        "id": "qYwkZct4QaIn",
        "outputId": "7ba18bcf-be22-4ec2-af8b-ea78477b958e"
      },
      "source": [
        "%time s = list(map(lambda x: x**2, large_items))"
      ],
      "execution_count": 19,
      "outputs": [
        {
          "output_type": "stream",
          "name": "stdout",
          "text": [
            "CPU times: user 13.4 s, sys: 66.4 ms, total: 13.4 s\n",
            "Wall time: 13.5 s\n"
          ]
        }
      ]
    },
    {
      "cell_type": "markdown",
      "metadata": {
        "id": "65YobhDDQTAl"
      },
      "source": [
        "## Increase speed with map\n",
        "Let's see how map can speed-up things. For example, if we want to calculate the sum of 2 arrays per element:"
      ]
    },
    {
      "cell_type": "code",
      "metadata": {
        "id": "HImeIYLiOdbO"
      },
      "source": [
        "n=int(5.0e7)\n",
        "x = range(n)\n",
        "y = range(n)"
      ],
      "execution_count": 15,
      "outputs": []
    },
    {
      "cell_type": "markdown",
      "metadata": {
        "id": "QuGnFTNyQuRN"
      },
      "source": [
        "With map this is fast:"
      ]
    },
    {
      "cell_type": "code",
      "metadata": {
        "id": "VnXloNebQhnr"
      },
      "source": [
        "def sum(x,y):\n",
        "    return x+y"
      ],
      "execution_count": null,
      "outputs": []
    },
    {
      "cell_type": "code",
      "metadata": {
        "colab": {
          "base_uri": "https://localhost:8080/"
        },
        "id": "pUrEiFhSOt3n",
        "outputId": "4c6d6e46-7f3f-4752-ec5b-5df585e1934d"
      },
      "source": [
        "%time res=map(sum,x,y)\n"
      ],
      "execution_count": 27,
      "outputs": [
        {
          "output_type": "stream",
          "name": "stdout",
          "text": [
            "CPU times: user 7 µs, sys: 0 ns, total: 7 µs\n",
            "Wall time: 21.2 µs\n"
          ]
        }
      ]
    },
    {
      "cell_type": "markdown",
      "metadata": {
        "id": "UJHr4zQZRdSb"
      },
      "source": [
        "With a for-loop this is slower:"
      ]
    },
    {
      "cell_type": "code",
      "metadata": {
        "id": "l9pW6hzXQ3r_"
      },
      "source": [
        "import numpy as np"
      ],
      "execution_count": 21,
      "outputs": []
    },
    {
      "cell_type": "code",
      "metadata": {
        "id": "H__QGc_AOvmP"
      },
      "source": [
        "def sum2(x,y):\n",
        "  res=np.zeros(len(x))  # Initialize\n",
        "  for i in range(len(x)):\n",
        "    res[i] = sum(x[i],y[i])\n"
      ],
      "execution_count": 22,
      "outputs": []
    },
    {
      "cell_type": "code",
      "metadata": {
        "colab": {
          "base_uri": "https://localhost:8080/"
        },
        "id": "PVwauKQePE7P",
        "outputId": "149ab623-da1c-4662-b6db-c317a78c972b"
      },
      "source": [
        "%time res=sum2(x,y)"
      ],
      "execution_count": 26,
      "outputs": [
        {
          "output_type": "stream",
          "name": "stdout",
          "text": [
            "CPU times: user 23.8 s, sys: 137 ms, total: 24 s\n",
            "Wall time: 24 s\n"
          ]
        }
      ]
    },
    {
      "cell_type": "code",
      "metadata": {
        "id": "GbB6C62lPO0g"
      },
      "source": [
        ""
      ],
      "execution_count": null,
      "outputs": []
    }
  ]
}